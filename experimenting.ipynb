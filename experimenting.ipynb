{
 "cells": [
  {
   "cell_type": "code",
   "execution_count": null,
   "id": "974f30ca-063c-42ec-8eef-631111b95f73",
   "metadata": {},
   "outputs": [],
   "source": []
  },
  {
   "cell_type": "code",
   "execution_count": null,
   "id": "029c86fd-4d27-4498-840e-9d96289f0757",
   "metadata": {
    "scrolled": true
   },
   "outputs": [],
   "source": [
    "import requests"
   ]
  },
  {
   "cell_type": "code",
   "execution_count": null,
   "id": "7d698f03-b797-43fd-85e2-ed33b1e318d3",
   "metadata": {
    "scrolled": true
   },
   "outputs": [],
   "source": [
    "def team_info(team_id: int, season: int, sport: str):\n",
    "    if sport not in ('xc','tfo','tfi'): return 'error'\n",
    "    td_sport = 'tf' if sport == 'tfo' else sport\n",
    "    team_data = requests.get('https://www.athletic.net/api/v1/TeamNav/Team',params=dict(team=team_id,sport=td_sport,season=season))\n",
    "\n",
    "    team_core = requests.get('https://www.athletic.net/api/v1/TeamHome/GetTeamCore',dict(teamId=team_id,sport=sport,season=season))\n",
    "    anettokens = team_core.json()['jwtTeamHome']\n",
    "    referer_url = f'https://www.athletic.net/team/{team_id}/cross-country/{season}'\n",
    "    headers = {'referer':referer_url,'anettokens':anettokens}\n",
    "    roster = requests.get('https://www.athletic.net/api/v1/TeamHome/GetAthletes',headers = headers, params = dict(seasonID = season))\n",
    "    team_info = team_data.json()['team']\n",
    "\n",
    "    schedule = requests.get('https://www.athletic.net/api/v1/TeamHomeCal/GetCalendar',headers = headers, params = dict(seasonID = season))\n",
    "    schedule_output = [\n",
    "        {\n",
    "            'meet_name':meet['Name'],\n",
    "            'anet_meet_id': meet['MeetID'], \n",
    "            'street_address':meet['StreetAddress'],\n",
    "            'city': meet['City'], \n",
    "            'state': meet['State'],\n",
    "            'zipcode': meet['PostalCode'],\n",
    "            'location': meet['Location'],\n",
    "            'date': meet['Date']\n",
    "            \n",
    "        } \n",
    "        for meet in schedule.json()\n",
    "    ]\n",
    "    return {\n",
    "                'name' : team_info['Name'],\n",
    "                'city' : team_info['City'],\n",
    "                'state' : team_info['State'],\n",
    "                'mascot' : team_info['Mascot'],\n",
    "                'roster' : roster.json(),\n",
    "                'schedule' : schedule_output#.json()\n",
    "            }\n",
    "\n",
    "team_info(493,2023,'xc')"
   ]
  },
  {
   "cell_type": "code",
   "execution_count": null,
   "id": "47f5da3b-4f87-43ac-8770-d1289bf46510",
   "metadata": {},
   "outputs": [],
   "source": [
    "def get_meet_results(meet_id: int, sport: str):\n",
    "    params = dict(meetId=meet_id, sport=sport)\n",
    "    meet = requests.get('https://www.athletic.net/api/v1/Meet/GetMeetData',params=params)\n",
    "    \n",
    "    meet_payload = meet.json()\n",
    "    \n",
    "    meet_data = {\n",
    "        'meet' :\n",
    "            {\n",
    "                'location' : meet_payload['meet']['Location']['Name'],\n",
    "                'street_address' : meet_payload['meet']['Location']['Address'],\n",
    "                'city' : meet_payload['meet']['Location']['City'],\n",
    "                'state' : meet_payload['meet']['Location']['State'],\n",
    "                'zipcode' : meet_payload['meet']['Location']['PostalCode']\n",
    "            },\n",
    "        'races': [\n",
    "                    {\n",
    "                        'race_id': race['IDMeetDiv'],\n",
    "                        'race' : race['DivName'],\n",
    "                        'division' : race['Division'],\n",
    "                        'place_depth' : race['PlaceDepth'],\n",
    "                        'score_depth' : race['ScoreDepth'],\n",
    "                        'start_time' : race['RaceTime'],\n",
    "                        'results' : [],\n",
    "                        'team_scores' : []\n",
    "                    }   \n",
    "                    for race in meet_payload['xcDivisions']\n",
    "        ]\n",
    "    }\n",
    "    \n",
    "    results = requests.get('https://www.athletic.net/api/v1/Meet/GetAllResultsData', headers = dict(referer = 'https://www.athletic.net/CrossCountry/meet/225886/results/all',anettokens = meet_payload['jwtMeet']))\n",
    "    \n",
    "    for finisher in results.json()['results']:\n",
    "        finisher_details = {\n",
    "            'athlete_id' : finisher['AthleteID'],\n",
    "            'name' : finisher['FirstName'] + ' ' + finisher['LastName'],\n",
    "            'team_id' : finisher['TeamID'],\n",
    "            'team' : finisher['SchoolName'],\n",
    "            'grade' : finisher['AgeGrade'],\n",
    "            'result' : finisher['Result'],\n",
    "            'place' : finisher['Place']\n",
    "        }\n",
    "        race_id = finisher['RaceDivisionID']\n",
    "        for race in meet_data['races']:\n",
    "            if race_id == race['race_id']:\n",
    "                race['results'].append(finisher_details)\n",
    "                \n",
    "    for team_score in results.json()['teamScores']:\n",
    "        \n",
    "        \n",
    "    return meet_data\n",
    "        "
   ]
  },
  {
   "cell_type": "code",
   "execution_count": null,
   "id": "e54ae6fc-1f80-4dd7-ad27-aa8fa9d92fc3",
   "metadata": {},
   "outputs": [],
   "source": [
    "r2.json()"
   ]
  },
  {
   "cell_type": "code",
   "execution_count": null,
   "id": "4338e0f0-7aa0-483b-a465-b7b2f67b5846",
   "metadata": {},
   "outputs": [],
   "source": [
    "r4 = requests.get('https://www.athletic.net/api/v1/SignedInUser/GetSignedInUser',headers={'referer':'https://www.athletic.net/team/123/cross-country/2023'})"
   ]
  },
  {
   "cell_type": "code",
   "execution_count": null,
   "id": "f81e3b5c-498b-4ec3-a9fc-da00d0033571",
   "metadata": {},
   "outputs": [],
   "source": [
    "r4.json()"
   ]
  },
  {
   "cell_type": "code",
   "execution_count": 1,
   "id": "806a9727-95a5-4aa3-ac6d-a002fd7b523e",
   "metadata": {},
   "outputs": [],
   "source": [
    "from typing import Optional, List\n",
    "\n",
    "from sqlmodel import Field, Relationship, Session, SQLModel, create_engine\n",
    "\n",
    "from datetime import date, time"
   ]
  },
  {
   "cell_type": "code",
   "execution_count": 2,
   "id": "a860f3a8-23a1-4988-8941-b60b2bd685d3",
   "metadata": {},
   "outputs": [],
   "source": [
    "# class Athlete(SQLModel, table=True):\n",
    "#     id: Optional[int] = Field(default=None, primary_key=True)\n",
    "#     anet_id: int\n",
    "#     name: str\n",
    "#     gender: str\n",
    "\n",
    "#     results: List['Result'] = Relationship(back_populates = 'athlete')\n",
    "\n",
    "# class Team(SQLModel, table=True):\n",
    "#     id: Optional[int] = Field(default=None, primary_key=True)\n",
    "#     anet_id: int\n",
    "#     name: str\n",
    "\n",
    "# class Meet(SQLModel, table=True):\n",
    "#     id: Optional[int] = Field(default=None, primary_key=True)\n",
    "#     anet_id: int\n",
    "#     name: str\n",
    "#     location: str\n",
    "#     date: date\n",
    "\n",
    "# class Result(SQLModel, table=True):\n",
    "#     id: Optional[int] = Field(default=None, primary_key=True)\n",
    "#     anet_id: int\n",
    "#     result: time\n",
    "#     place: int\n",
    "\n",
    "#     athlete_id: Optional[int] = Field(default=None, foreign_key = 'athlete.id')\n",
    "#     athlete: Optional[Athlete] = Relationship(back_populates = 'results')\n",
    "    \n",
    "#     team_id: Optional[int] = Field(default=None, foreign_key = 'team.id')\n",
    "#     meet_id: Optional[int] = Field(default=None, foreign_key = 'meet.id')\n",
    "\n",
    "class SimpleResult(SQLModel, table=True):\n",
    "    id: Optional[int] = Field(default=None, primary_key=True)\n",
    "    athlete_id: int\n",
    "    result: time\n",
    "    meet_id: int\n",
    "    season: int\n",
    "    school_id: int\n",
    "    distance: int\n",
    "    pr: bool\n",
    "    sb: bool\n",
    "    place: int\n",
    "\n",
    "\n",
    "db_name = \"anet_results\"\n",
    "db_string = f\"postgresql:///{db_name}\"\n",
    "\n",
    "engine = create_engine(db_string, echo=True)\n",
    "\n",
    "\n",
    "def create_db_and_tables():\n",
    "    SQLModel.metadata.create_all(engine)"
   ]
  },
  {
   "cell_type": "code",
   "execution_count": 3,
   "id": "cf960f6b-6473-43a5-8c7b-766fdc76f162",
   "metadata": {},
   "outputs": [
    {
     "name": "stdout",
     "output_type": "stream",
     "text": [
      "2023-09-23 23:12:15,057 INFO sqlalchemy.engine.Engine select pg_catalog.version()\n",
      "2023-09-23 23:12:15,058 INFO sqlalchemy.engine.Engine [raw sql] {}\n",
      "2023-09-23 23:12:15,060 INFO sqlalchemy.engine.Engine select current_schema()\n",
      "2023-09-23 23:12:15,061 INFO sqlalchemy.engine.Engine [raw sql] {}\n",
      "2023-09-23 23:12:15,062 INFO sqlalchemy.engine.Engine show standard_conforming_strings\n",
      "2023-09-23 23:12:15,063 INFO sqlalchemy.engine.Engine [raw sql] {}\n",
      "2023-09-23 23:12:15,064 INFO sqlalchemy.engine.Engine BEGIN (implicit)\n",
      "2023-09-23 23:12:15,065 INFO sqlalchemy.engine.Engine select relname from pg_class c join pg_namespace n on n.oid=c.relnamespace where pg_catalog.pg_table_is_visible(c.oid) and relname=%(name)s\n",
      "2023-09-23 23:12:15,066 INFO sqlalchemy.engine.Engine [generated in 0.00084s] {'name': 'simpleresult'}\n",
      "2023-09-23 23:12:15,068 INFO sqlalchemy.engine.Engine \n",
      "CREATE TABLE simpleresult (\n",
      "\tid SERIAL NOT NULL, \n",
      "\tathlete_id INTEGER NOT NULL, \n",
      "\tresult TIME WITHOUT TIME ZONE NOT NULL, \n",
      "\tmeet_id INTEGER NOT NULL, \n",
      "\tseason INTEGER NOT NULL, \n",
      "\tschool_id INTEGER NOT NULL, \n",
      "\tdistance INTEGER NOT NULL, \n",
      "\tpr BOOLEAN NOT NULL, \n",
      "\tsb BOOLEAN NOT NULL, \n",
      "\tplace INTEGER NOT NULL, \n",
      "\tPRIMARY KEY (id)\n",
      ")\n",
      "\n",
      "\n",
      "2023-09-23 23:12:15,069 INFO sqlalchemy.engine.Engine [no key 0.00074s] {}\n",
      "2023-09-23 23:12:15,079 INFO sqlalchemy.engine.Engine COMMIT\n"
     ]
    }
   ],
   "source": [
    "create_db_and_tables()"
   ]
  },
  {
   "cell_type": "code",
   "execution_count": null,
   "id": "1bb282e9-756e-4239-8ad0-ddceb34c04a4",
   "metadata": {},
   "outputs": [],
   "source": [
    "session = Session(engine)\n",
    "\n",
    "for result in r2.json():\n",
    "    athlete = Athlete(anet_id = result['ID'],name = result['Name'], gender = result['Gender'])\n",
    "    session.add(athlete)\n",
    "\n",
    "session.commit()"
   ]
  },
  {
   "cell_type": "code",
   "execution_count": null,
   "id": "c790edbc-5368-4832-929c-984d502e085b",
   "metadata": {},
   "outputs": [],
   "source": [
    "session.close()"
   ]
  },
  {
   "cell_type": "code",
   "execution_count": null,
   "id": "e7bc16aa-2122-4de4-a945-7b5a225d79f3",
   "metadata": {},
   "outputs": [],
   "source": [
    "ath = requests.get('https://www.athletic.net/api/v1/AthleteBio/GetAthleteBioData?athleteId=17657897&sport=xc&level=null')"
   ]
  },
  {
   "cell_type": "code",
   "execution_count": null,
   "id": "ef855235-73ee-4b2d-b9a8-d280ee4761dd",
   "metadata": {},
   "outputs": [],
   "source": [
    "res = ath.json()['resultsXC'][0]"
   ]
  },
  {
   "cell_type": "code",
   "execution_count": null,
   "id": "b5e47a33-9b1f-49ff-b73f-2c6e69a9dce6",
   "metadata": {},
   "outputs": [],
   "source": [
    "session = Session(engine)\n",
    "for r in ath.json()['resultsXC']:\n",
    "    sr = SimpleResult(\n",
    "        athlete_id = r['AthleteID'],\n",
    "        result = r['Result'],\n",
    "        place = r['Place'],\n",
    "        pr = r['PersonalBest'],\n",
    "        sb = r['SeasonBest'],\n",
    "        school_id = r['SchoolID'],\n",
    "        distance = r['Distance'],\n",
    "        meet_id = r['MeetID'],\n",
    "        season = r['SeasonID']\n",
    "    )\n",
    "    session.add(sr)\n",
    "session.commit()\n",
    "session.close()"
   ]
  },
  {
   "cell_type": "code",
   "execution_count": null,
   "id": "00aa1f18-c844-48b4-b6e0-fbf36cf2519b",
   "metadata": {},
   "outputs": [],
   "source": []
  }
 ],
 "metadata": {
  "kernelspec": {
   "display_name": "Python 3 (ipykernel)",
   "language": "python",
   "name": "python3"
  },
  "language_info": {
   "codemirror_mode": {
    "name": "ipython",
    "version": 3
   },
   "file_extension": ".py",
   "mimetype": "text/x-python",
   "name": "python",
   "nbconvert_exporter": "python",
   "pygments_lexer": "ipython3",
   "version": "3.10.9"
  }
 },
 "nbformat": 4,
 "nbformat_minor": 5
}
